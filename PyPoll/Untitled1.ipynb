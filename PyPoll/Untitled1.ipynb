{
 "cells": [
  {
   "cell_type": "code",
   "execution_count": 15,
   "id": "5bcad328",
   "metadata": {},
   "outputs": [
    {
     "name": "stdout",
     "output_type": "stream",
     "text": [
      "Election Results\n",
      "-------------------------\n",
      "Total Votes: 369711\n",
      "-------------------------\n",
      "Charles Casper Stockham: 23.049% (85213)\n",
      "Diana DeGette: 73.812% (272892)\n",
      "Raymon Anthony Doane: 3.139% (11606)\n",
      "-------------------------\n",
      "Winner: Diana DeGette\n",
      "-------------------------\n"
     ]
    }
   ],
   "source": [
    "import os\n",
    "import csv\n",
    "\n",
    "csvpath = os.path.join(\".\", \"Resources\", \"election_data.csv\")\n",
    "vote_count = 0\n",
    "CCS_count = 0\n",
    "DD_count = 0\n",
    "RAD_count = 0\n",
    "\n",
    "with open(csvpath, encoding='UTF-8') as csvfile:\n",
    "    csv_reader = csv.reader(csvfile, delimiter=\",\")\n",
    "    next(csv_reader)\n",
    "    for row in csv_reader:\n",
    "        vote_count = vote_count + 1    \n",
    "        candidate = row[2]\n",
    "        if candidate == \"Charles Casper Stockham\":\n",
    "            CCS_count = CCS_count + 1\n",
    "        elif candidate == \"Diana DeGette\":\n",
    "            DD_count = DD_count + 1\n",
    "        elif candidate == \"Raymon Anthony Doane\":\n",
    "            RAD_count = RAD_count + 1\n",
    "CCS_percentage = float((CCS_count / vote_count) * 100)\n",
    "DD_percentage = float((DD_count / vote_count) * 100)\n",
    "RAD_percentage = float((RAD_count / vote_count) * 100)\n",
    "\n",
    "\n",
    "candidates = [\"Charles Casper Stockham\", \"Diana DeGette\", \"Raymon Anthony Doane\"]\n",
    "vote_counts = [CCS_count, DD_count, RAD_count]\n",
    "winner = candidates[vote_counts.index(max(vote_counts))]\n",
    "\n",
    "\n",
    "print(\"Election Results\")\n",
    "\n",
    "print(\"-------------------------\")\n",
    "\n",
    "print(f\"Total Votes: {vote_count}\")\n",
    "\n",
    "print(\"-------------------------\")\n",
    "\n",
    "print(f\"Charles Casper Stockham: {CCS_percentage:.3f}% ({CCS_count})\")\n",
    "\n",
    "print(f\"Diana DeGette: {DD_percentage:.3f}% ({DD_count})\")\n",
    "\n",
    "print(f\"Raymon Anthony Doane: {RAD_percentage:.3f}% ({RAD_count})\")\n",
    "\n",
    "print(\"-------------------------\")\n",
    "\n",
    "print(f\"Winner: {winner}\")\n",
    "\n",
    "print(\"-------------------------\")"
   ]
  },
  {
   "cell_type": "code",
   "execution_count": null,
   "id": "67ae67e9",
   "metadata": {},
   "outputs": [],
   "source": []
  }
 ],
 "metadata": {
  "kernelspec": {
   "display_name": "Python 3 (ipykernel)",
   "language": "python",
   "name": "python3"
  },
  "language_info": {
   "codemirror_mode": {
    "name": "ipython",
    "version": 3
   },
   "file_extension": ".py",
   "mimetype": "text/x-python",
   "name": "python",
   "nbconvert_exporter": "python",
   "pygments_lexer": "ipython3",
   "version": "3.11.5"
  }
 },
 "nbformat": 4,
 "nbformat_minor": 5
}
